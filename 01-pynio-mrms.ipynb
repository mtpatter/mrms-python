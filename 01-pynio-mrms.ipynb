{
 "cells": [
  {
   "cell_type": "code",
   "execution_count": 2,
   "metadata": {
    "collapsed": true
   },
   "outputs": [],
   "source": [
    "import Nio as nio\n",
    "import gzip\n",
    "from subprocess import call\n",
    "import numpy as np"
   ]
  },
  {
   "cell_type": "code",
   "execution_count": 3,
   "metadata": {
    "collapsed": false
   },
   "outputs": [
    {
     "name": "stdout",
     "output_type": "stream",
     "text": [
      "\n",
      "PyNIO enables NetCDF-like access for multiple file formats including\n",
      "    NetCDF 3 (rw) and  GRIB 1 (r), and optionally\n",
      "    NetCDF 4 (rw), HDF 4 (rw), HDF 5 (rw), HDFEOS 2/4 (r), GRIB 2 (r), HDFEOS 5 (r), shapefiles\n",
      "    and other GDAL OGR-supported (r) data formats.\n",
      "\n",
      "import Nio\n",
      "\n",
      "Class NioFile:\n",
      "\n",
      "f = Nio.open_file(filepath, mode='r', options=None, history='',format='')\n",
      "\n",
      "To see summary of file contents, including all attributes :\n",
      "   print f\n",
      "attributes:\n",
      "   name -- the name of the file or group\n",
      "   dimensions -- dictionary of dimension lengths with dimension name keys\n",
      "   variables -- dictionary of variable objects with variable name keys\n",
      "   attributes --  dictionary of global file or group attributes with attribute name keys\n",
      "       (the following are applicable for advanced formats NetCDF4 and HDF5 only)\n",
      "   groups -- dictionary of groups with group name keys\n",
      "   ud_types -- dictionary of user-defined data type definitions with data type name keys\n",
      "   chunk_dimensions -- dictionary of chunking dimension sizes with dimension name keys\n",
      "   parent -- reference to the parent group, parent file for the root group, or None for a file\n",
      "   path -- the path of a group relative to the root group ('/'), or the file path for a file\n",
      "methods:\n",
      "   close(history='')\n",
      "   create_dimension(name, length)\n",
      "   create_variable(name, type, dimensions)\n",
      "   unlimited(dimension_name) -- returns True if dimension_name refers to an unlimited dimension; False otherwise\n",
      "       (the following are applicable for advanced formats NetCDF4 and HDF5 only)\n",
      "   create_group(name) -- create a group in the file or group.\n",
      "   create_vlen(name,type,dimensions) -- create a variable length array variable in the file or group.\n",
      "   create_compound(name,type,dimensions) -- create a compound variable with the given type and dimensions.\n",
      "   create_compound_type(name, type)  -- create a user-defined compound type; with member names, sizes\n",
      "        and types as defined in the type sequence argument.\n",
      "   \n",
      "For more detailed information:\n",
      "    print f.__doc__\n",
      "\n",
      "Class NioOptions\n",
      "\n",
      "opt = Nio.options()\n",
      "\n",
      "To set general or format-specific options assign option names and settings as attributes\n",
      "and values of 'opt'. Then pass 'opt' as the optional options argument to\n",
      "Nio.open_file.\n",
      "To see valid options:\n",
      "    print opt.__doc__ \n",
      "\n",
      "Class NioVariable\n",
      "\n",
      "v = f.variables['varname']\n",
      "\n",
      "To see summary of variable contents including all dimensions,\n",
      "associated coordinate variables, and attributes:\n",
      "    print v \n",
      "Attributes:\n",
      "    rank -- a scalar value indicating the number of dimensions\n",
      "    shape -- a tuple containing the number of elements in each dimension\n",
      "    dimensions -- a tuple containing the dimensions names in order\n",
      "    attributes -- a dictionary of variable attributes with attribute name keys\n",
      "    size -- a scalar value indicating the size in bytes of the variable\n",
      "    name -- the name of the variable\n",
      "    parent -- reference to the group or file to which the variable belongs\n",
      "    path -- the path of the variable relative to the root group ('/')\n",
      "Methods:\n",
      "    assign_value(value) -- assign a value to a variable in the file.\n",
      "    get_value() -- retrieve the value of a variable in the file.\n",
      "    typecode() -- return a character code representing the variable's type.\n",
      "    set_option(option,value) -- set certain options.\n",
      "\n",
      "For more detailed information:\n",
      "    print v.__doc__\n",
      "\n",
      "For complete documentation see:\n",
      "\n",
      "        http://www.pyngl.ucar.edu/Nio.html\n",
      "\n"
     ]
    }
   ],
   "source": [
    "print nio.__doc__"
   ]
  },
  {
   "cell_type": "markdown",
   "metadata": {},
   "source": [
    "## Gunzip grib2 file"
   ]
  },
  {
   "cell_type": "code",
   "execution_count": 6,
   "metadata": {
    "collapsed": false
   },
   "outputs": [],
   "source": [
    "gzfilename = \"MRMS_PrecipRate_00.00_20160109-130000.grib2.gz\"\n",
    "call([\"gunzip\", gzfilename])\n",
    "filename = gzfilename.strip(\".gz\")\n",
    "#f = nio.open_file(filename)\n",
    "#print(f)"
   ]
  },
  {
   "cell_type": "markdown",
   "metadata": {},
   "source": [
    "## Open file with nio"
   ]
  },
  {
   "cell_type": "code",
   "execution_count": 7,
   "metadata": {
    "collapsed": false
   },
   "outputs": [
    {
     "name": "stdout",
     "output_type": "stream",
     "text": [
      "Nio file:\tMRMS_PrecipRate_00.00_20160109-130000.grib2\n",
      "   global attributes:\n",
      "   dimensions:\n",
      "      lat_0 = 3500\n",
      "      lon_0 = 7000\n",
      "   variables:\n",
      "      float PrecipRate_P0_L102_GLL0 [ lat_0, lon_0 ]\n",
      "         center :\tUS NOAA Office of Oceanic and Atmospheric Research\n",
      "         production_status :\tResearch products\n",
      "         long_name :\tRadar Precipitation Rate\n",
      "         units :\tmm/hr\n",
      "         _FillValue :\t1e+20\n",
      "         grid_type :\tLatitude/longitude\n",
      "         parameter_discipline_and_category :\tMulti-Radar/Multi-Sensor (MRMS) products, Category 6\n",
      "         parameter_template_discipline_category_number :\t[0, 209, 6, 1]\n",
      "         level_type :\tSpecific altitude above mean sea level (m)\n",
      "         level :\t0\n",
      "         forecast_time :\t0\n",
      "         forecast_time_units :\tminutes\n",
      "         initial_time :\t01/09/2016 (13:00)\n",
      "      float lat_0 [ lat_0 ]\n",
      "         long_name :\tlatitude\n",
      "         grid_type :\tLatitude/Longitude\n",
      "         units :\tdegrees_north\n",
      "         Dj :\t0.01\n",
      "         Di :\t0.009999999\n",
      "         Lo2 :\t299.995\n",
      "         La2 :\t20.005\n",
      "         Lo1 :\t230.005\n",
      "         La1 :\t54.995\n",
      "      float lon_0 [ lon_0 ]\n",
      "         long_name :\tlongitude\n",
      "         grid_type :\tLatitude/Longitude\n",
      "         units :\tdegrees_east\n",
      "         Dj :\t0.01\n",
      "         Di :\t0.009999999\n",
      "         Lo2 :\t299.995\n",
      "         La2 :\t20.005\n",
      "         Lo1 :\t230.005\n",
      "         La1 :\t54.995\n",
      "\n"
     ]
    }
   ],
   "source": [
    "f = nio.open_file(filename)\n",
    "print(f)"
   ]
  },
  {
   "cell_type": "markdown",
   "metadata": {},
   "source": [
    "## No groups"
   ]
  },
  {
   "cell_type": "code",
   "execution_count": 8,
   "metadata": {
    "collapsed": false
   },
   "outputs": [
    {
     "name": "stdout",
     "output_type": "stream",
     "text": [
      "<class 'Nio.NioFile'>\n",
      "{}\n",
      "{}\n"
     ]
    }
   ],
   "source": [
    "print type(f)\n",
    "print f.groups\n",
    "print f.attributes"
   ]
  },
  {
   "cell_type": "markdown",
   "metadata": {},
   "source": [
    "## Look at variables, which is a dictionary"
   ]
  },
  {
   "cell_type": "code",
   "execution_count": 9,
   "metadata": {
    "collapsed": false
   },
   "outputs": [
    {
     "name": "stdout",
     "output_type": "stream",
     "text": [
      "dimension keys: \t\n",
      "['lon_0', 'lat_0']\n",
      "dimensions: \t\n",
      "{'lon_0': 7000, 'lat_0': 3500}\n",
      "variables: \t\n",
      "{'lon_0': <Nio.NioVariable object at 0x10b2b6090>, 'PrecipRate_P0_L102_GLL0': <Nio.NioVariable object at 0x10b2b6b50>, 'lat_0': <Nio.NioVariable object at 0x10b2b6550>}\n",
      "variables keys: \t\n",
      "['lon_0', 'PrecipRate_P0_L102_GLL0', 'lat_0']\n"
     ]
    }
   ],
   "source": [
    "print \"dimension keys: \\t\\n\", f.dimensions.keys()\n",
    "print \"dimensions: \\t\\n\", f.dimensions\n",
    "print \"variables: \\t\\n\", f.variables\n",
    "print \"variables keys: \\t\\n\", f.variables.keys()"
   ]
  },
  {
   "cell_type": "markdown",
   "metadata": {},
   "source": [
    "## Read in variables as numpy arrays"
   ]
  },
  {
   "cell_type": "code",
   "execution_count": 10,
   "metadata": {
    "collapsed": true
   },
   "outputs": [],
   "source": [
    "precip  = f.variables[\"PrecipRate_P0_L102_GLL0\"]                          \n",
    "lat = f.variables[\"lat_0\"][:]       # [:] reads the values                            \n",
    "lon = f.variables[\"lon_0\"][:]"
   ]
  },
  {
   "cell_type": "markdown",
   "metadata": {},
   "source": [
    "## Print some info about the vars"
   ]
  },
  {
   "cell_type": "code",
   "execution_count": 11,
   "metadata": {
    "collapsed": false
   },
   "outputs": [
    {
     "name": "stdout",
     "output_type": "stream",
     "text": [
      "precip type is <class 'Nio.NioVariable'>\n",
      "lat type is <type 'numpy.ndarray'>\n",
      "lon type is <type 'numpy.ndarray'>\n",
      "lat dtype is float32\n"
     ]
    }
   ],
   "source": [
    "print \"precip type is\",type(precip)\n",
    "print \"lat type is %s\" % type(lat)\n",
    "print \"lon type is %s\" % type(lon)\n",
    "print \"lat dtype is %s\" % lat.dtype"
   ]
  },
  {
   "cell_type": "markdown",
   "metadata": {},
   "source": [
    "## Accessing individual attributes and dimension names"
   ]
  },
  {
   "cell_type": "code",
   "execution_count": 12,
   "metadata": {
    "collapsed": false
   },
   "outputs": [
    {
     "name": "stdout",
     "output_type": "stream",
     "text": [
      "Variable is Radar Precipitation Rate (mm/hr)\n",
      "Name of dimensions is ('lat_0', 'lon_0')\n"
     ]
    }
   ],
   "source": [
    "print \"Variable is %s (%s)\" % (precip.long_name,precip.units)\n",
    "print \"Name of dimensions is\", precip.dimensions"
   ]
  },
  {
   "cell_type": "markdown",
   "metadata": {},
   "source": [
    "## Use [:] to access values"
   ]
  },
  {
   "cell_type": "code",
   "execution_count": 13,
   "metadata": {
    "collapsed": false
   },
   "outputs": [
    {
     "name": "stdout",
     "output_type": "stream",
     "text": [
      "precipvals type <class 'numpy.ma.core.MaskedArray'>\n",
      "precipvals shape (3500, 7000)\n",
      "precipvals dtype = float32\n"
     ]
    }
   ],
   "source": [
    "precipvals = precip[:]             # Reads all dimensions, all values\n",
    "print \"precipvals type\",type(precipvals)\n",
    "print \"precipvals shape\",precipvals.shape\n",
    "print \"precipvals dtype = %s\" % precipvals.dtype"
   ]
  },
  {
   "cell_type": "code",
   "execution_count": 14,
   "metadata": {
    "collapsed": false
   },
   "outputs": [
    {
     "name": "stdout",
     "output_type": "stream",
     "text": [
      "[[-3. -3. -3. ..., -3. -3. -3.]\n",
      " [-3. -3. -3. ..., -3. -3. -3.]\n",
      " [-3. -3. -3. ..., -3. -3. -3.]\n",
      " ..., \n",
      " [-3. -3. -3. ..., -3. -3. -3.]\n",
      " [-3. -3. -3. ..., -3. -3. -3.]\n",
      " [-3. -3. -3. ..., -3. -3. -3.]]\n"
     ]
    }
   ],
   "source": [
    "print precipvals"
   ]
  },
  {
   "cell_type": "code",
   "execution_count": 15,
   "metadata": {
    "collapsed": false
   },
   "outputs": [
    {
     "name": "stdout",
     "output_type": "stream",
     "text": [
      "precipvals min / max = -3 / 103.8\n",
      "precipvals min / max = -3 / 103.8\n"
     ]
    }
   ],
   "source": [
    "# Two ways to get the min/max\n",
    "# numpy doesn't handle missing values well, so generally use the second one\n",
    "print \"precipvals min / max = %g / %g\" % (np.min(precipvals),np.max(precipvals))\n",
    "print \"precipvals min / max = %g / %g\" % (precipvals.min(),precipvals.max())"
   ]
  },
  {
   "cell_type": "code",
   "execution_count": 16,
   "metadata": {
    "collapsed": false
   },
   "outputs": [
    {
     "name": "stdout",
     "output_type": "stream",
     "text": [
      "precipvals average =  -0.999979913235\n",
      "precipvals average =  -0.999979913235\n"
     ]
    }
   ],
   "source": [
    "# Two ways to calculate simple average\n",
    "# these should be the same, unless you have a masked array\n",
    "print \"precipvals average = \",np.mean(precipvals)   # Be careful with this!\n",
    "print \"precipvals average = \",precipvals.mean()"
   ]
  },
  {
   "cell_type": "code",
   "execution_count": 17,
   "metadata": {
    "collapsed": false
   },
   "outputs": [
    {
     "name": "stdout",
     "output_type": "stream",
     "text": [
      "precipvals min / max = 0 / 103.8\n"
     ]
    }
   ],
   "source": [
    "## It looks like -3. is empty? Restrict to greater than or equal to zero\n",
    "print \"precipvals min / max = %g / %g\" % (precipvals[precipvals>=0.].min(),precipvals[precipvals>=0.].max())"
   ]
  },
  {
   "cell_type": "code",
   "execution_count": 18,
   "metadata": {
    "collapsed": false
   },
   "outputs": [
    {
     "name": "stdout",
     "output_type": "stream",
     "text": [
      "precipvals average =  0.0815964341164\n"
     ]
    }
   ],
   "source": [
    "print \"precipvals average = \",precipvals[precipvals>=0.].mean()"
   ]
  },
  {
   "cell_type": "code",
   "execution_count": 20,
   "metadata": {
    "collapsed": false
   },
   "outputs": [
    {
     "name": "stdout",
     "output_type": "stream",
     "text": [
      "[  1.00000002e+20]\n"
     ]
    }
   ],
   "source": [
    "print precip._FillValue"
   ]
  }
 ],
 "metadata": {
  "kernelspec": {
   "display_name": "Python 2",
   "language": "python",
   "name": "python2"
  },
  "language_info": {
   "codemirror_mode": {
    "name": "ipython",
    "version": 2
   },
   "file_extension": ".py",
   "mimetype": "text/x-python",
   "name": "python",
   "nbconvert_exporter": "python",
   "pygments_lexer": "ipython2",
   "version": "2.7.11"
  }
 },
 "nbformat": 4,
 "nbformat_minor": 0
}
